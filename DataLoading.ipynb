{
 "cells": [
  {
   "cell_type": "code",
   "execution_count": 1,
   "metadata": {
    "colab": {
     "base_uri": "https://localhost:8080/"
    },
    "id": "dqNJk540w02w",
    "outputId": "a4240f6f-9641-4a1f-d5ce-d5285ff2620e"
   },
   "outputs": [
    {
     "name": "stdout",
     "output_type": "stream",
     "text": [
      "Requirement already satisfied: PyMySQL in c:\\users\\harri\\anaconda3\\lib\\site-packages (1.0.2)\n"
     ]
    }
   ],
   "source": [
    "!pip install PyMySQL\n"
   ]
  },
  {
   "cell_type": "code",
   "execution_count": 2,
   "metadata": {
    "colab": {
     "base_uri": "https://localhost:8080/"
    },
    "id": "mkEIldlN7pKA",
    "outputId": "2d48a439-cf9f-42b9-f5da-7be76245ef4d"
   },
   "outputs": [
    {
     "name": "stdout",
     "output_type": "stream",
     "text": [
      "Requirement already satisfied: spotipy in c:\\users\\harri\\anaconda3\\lib\\site-packages (2.19.0)\n",
      "Requirement already satisfied: urllib3>=1.26.0 in c:\\users\\harri\\anaconda3\\lib\\site-packages (from spotipy) (1.26.9)\n",
      "Requirement already satisfied: requests>=2.25.0 in c:\\users\\harri\\anaconda3\\lib\\site-packages (from spotipy) (2.27.1)\n",
      "Requirement already satisfied: six>=1.15.0 in c:\\users\\harri\\anaconda3\\lib\\site-packages (from spotipy) (1.15.0)\n",
      "Requirement already satisfied: certifi>=2017.4.17 in c:\\users\\harri\\anaconda3\\lib\\site-packages (from requests>=2.25.0->spotipy) (2020.6.20)\n",
      "Requirement already satisfied: idna<4,>=2.5; python_version >= \"3\" in c:\\users\\harri\\anaconda3\\lib\\site-packages (from requests>=2.25.0->spotipy) (2.10)\n",
      "Requirement already satisfied: charset-normalizer~=2.0.0; python_version >= \"3\" in c:\\users\\harri\\anaconda3\\lib\\site-packages (from requests>=2.25.0->spotipy) (2.0.12)\n"
     ]
    }
   ],
   "source": [
    "!pip install spotipy"
   ]
  },
  {
   "cell_type": "code",
   "execution_count": 32,
   "metadata": {
    "id": "L9PVaJsex-xm"
   },
   "outputs": [],
   "source": [
    "import pymysql.cursors\n",
    "\n",
    "HOST = '127.0.0.1'\n",
    "USERNAME = 'root'\n",
    "PASSWORD = 'ENTER PASSWORD HERE'\n",
    "DB = 'group20'\n",
    "\n",
    "#HOST = 'ro2padgkirvcf55m.cbetxkdyhwsb.us-east-1.rds.amazonaws.com'\n",
    "#USERNAME = 'kiobxvha0j25kdji'\n",
    "#PASSWORD = 'ebrkilp5hgrfm8mg'\n",
    "#DB = 'slztvi8pp04q6647'\n",
    "\n",
    "connection = pymysql.connect(host= HOST,\n",
    "                             user= USERNAME,\n",
    "                             password= PASSWORD,\n",
    "                             database= DB ,\n",
    "                             cursorclass=pymysql.cursors.DictCursor)\n",
    "\n"
   ]
  },
  {
   "cell_type": "code",
   "execution_count": 2,
   "metadata": {
    "id": "US07wMp07sr2"
   },
   "outputs": [],
   "source": [
    "import spotipy\n",
    "from spotipy.oauth2 import SpotifyClientCredentials\n",
    "cid = '4b82e53952b14228864022d7bea0e648'\n",
    "secret = '01f7cf41fcca4c9eade8d50f2ab043a5'\n",
    "client_credentials_manager = SpotifyClientCredentials(client_id=cid, client_secret=secret)\n",
    "sp = spotipy.Spotify(client_credentials_manager\n",
    "=\n",
    "client_credentials_manager)"
   ]
  },
  {
   "cell_type": "code",
   "execution_count": 3,
   "metadata": {},
   "outputs": [],
   "source": [
    "import json\n",
    "with open('mpd.slice.0-999.json') as f:\n",
    "    d = json.load(f)"
   ]
  },
  {
   "cell_type": "code",
   "execution_count": 4,
   "metadata": {},
   "outputs": [],
   "source": [
    "import time"
   ]
  },
  {
   "cell_type": "code",
   "execution_count": 5,
   "metadata": {
    "id": "ptU4b5vU1Heb"
   },
   "outputs": [],
   "source": [
    "# This is query (returns all values (rows))\n",
    "def query(statement, arguments = ()):\n",
    "  with connection.cursor() as cursor:\n",
    "    cursor.execute(statement, arguments)\n",
    "    return cursor.fetchall()"
   ]
  },
  {
   "cell_type": "code",
   "execution_count": 6,
   "metadata": {
    "id": "PZHQE9_q7wXP"
   },
   "outputs": [],
   "source": [
    "# Insert record\n",
    "def insert(statement, arguments = ()):\n",
    "  with connection.cursor() as cursor:\n",
    "    cursor.execute(statement, arguments)\n",
    "    connection.commit()"
   ]
  },
  {
   "cell_type": "code",
   "execution_count": 23,
   "metadata": {
    "colab": {
     "base_uri": "https://localhost:8080/"
    },
    "id": "byiv8-676jP1",
    "outputId": "01de8d5e-eb82-43c6-f0fe-041b1bc28f4e",
    "scrolled": true
   },
   "outputs": [
    {
     "data": {
      "text/plain": [
       "[{'Tables_in_group20': 'album'},\n",
       " {'Tables_in_group20': 'album_artist'},\n",
       " {'Tables_in_group20': 'artist'},\n",
       " {'Tables_in_group20': 'artist_genre'},\n",
       " {'Tables_in_group20': 'audio_features'},\n",
       " {'Tables_in_group20': 'genre'},\n",
       " {'Tables_in_group20': 'playlist'},\n",
       " {'Tables_in_group20': 'playlist_tracks'},\n",
       " {'Tables_in_group20': 'track'},\n",
       " {'Tables_in_group20': 'track_artist'},\n",
       " {'Tables_in_group20': 'user'},\n",
       " {'Tables_in_group20': 'user_playlist'}]"
      ]
     },
     "execution_count": 23,
     "metadata": {},
     "output_type": "execute_result"
    }
   ],
   "source": [
    "# Show all the tables\n",
    "SHOW_TABLES = \"show tables;\"\n",
    "result = query(SHOW_TABLES)\n",
    "result"
   ]
  },
  {
   "cell_type": "code",
   "execution_count": 59,
   "metadata": {},
   "outputs": [],
   "source": [
    "# Insert the Spotify Account into the 'user' table\n",
    "STATEMENT = 'insert into user (display_name, user_uri) values (%s, %s)'\n",
    "insert(STATEMENT, ('spotify', 'spotify:user:spotify'))"
   ]
  },
  {
   "cell_type": "code",
   "execution_count": 60,
   "metadata": {},
   "outputs": [
    {
     "data": {
      "text/plain": [
       "[{'user_id': 1, 'display_name': 'spotify', 'user_uri': 'spotify:user:spotify'}]"
      ]
     },
     "execution_count": 60,
     "metadata": {},
     "output_type": "execute_result"
    }
   ],
   "source": [
    "query('select * from user;')"
   ]
  },
  {
   "cell_type": "code",
   "execution_count": 61,
   "metadata": {},
   "outputs": [],
   "source": [
    "# dictionaries to keep track of what has already been added to database\n",
    "PLAYLIST_DICT = {} # map pid to bool\n",
    "ALBUM_DICT = {} # map album_uri to album_id\n",
    "TRACK_DICT = {} # map track_uri to track_id\n",
    "ARTIST_DICT = {} # map artist_uri to artist_id\n",
    "GENRE_DICT = {} # map genre_name to genre_id\n",
    "\n",
    "# counters\n",
    "playlist_id = 1\n",
    "track_id = 1"
   ]
  },
  {
   "cell_type": "code",
   "execution_count": 48,
   "metadata": {},
   "outputs": [],
   "source": [
    "# Playlists made by Spotify\n",
    "playlists = sp.user_playlists('spotify')"
   ]
  },
  {
   "cell_type": "code",
   "execution_count": 76,
   "metadata": {},
   "outputs": [],
   "source": [
    "# LOADING USER PLAYLISTS\n",
    "for playlist in d['playlists']:\n",
    "  #time.sleep(3)\n",
    "  ### PLAYLIST INFO  \n",
    "\n",
    "  # dictionary for keeping track of duplicate tracks in a playlist\n",
    "  TR_PL_DICT = {} # maps track_id to dummy value\n",
    "\n",
    "  # pid\n",
    "  pid = playlist['pid'] + 1\n",
    "    \n",
    "  if pid in PLAYLIST_DICT:\n",
    "    continue\n",
    "\n",
    "  PLAYLIST_DICT[pid] = 1\n",
    "\n",
    "  # Playlist name\n",
    "  name = playlist['name']\n",
    "    \n",
    "  # collaborative?\n",
    "  if playlist['collaborative']:\n",
    "    collaborative = 1\n",
    "  else:\n",
    "    collaborative = 0\n",
    "\n",
    "  # num tracks\n",
    "  num_tracks = playlist['num_tracks']\n",
    "    \n",
    "  # followers\n",
    "  num_followers = playlist['num_followers']\n",
    "\n",
    "  PLAYLIST_INSERT = \"insert into playlist values (%s, %s, %s, %s, %s)\"\n",
    "  try:\n",
    "    insert(PLAYLIST_INSERT, (pid, name, collaborative, num_tracks, num_followers))\n",
    "  except:\n",
    "    continue\n",
    "\n",
    "  ### TRACK INFO\n",
    "  for track in playlist['tracks']:\n",
    "    \n",
    "    # track uri\n",
    "    uri = track['track_uri']\n",
    "    \n",
    "    API_TRACK = sp.track(uri) # fetch track info from api\n",
    "    \n",
    "    PL_TR_INSERT = \"insert into playlist_tracks (pid, track_id) values (%s, %s)\"\n",
    "    \n",
    "    if uri in TRACK_DICT: # if track is already in database\n",
    "        if TRACK_DICT[uri] not in TR_PL_DICT:\n",
    "            insert(PL_TR_INSERT, (pid, TRACK_DICT[uri]))\n",
    "            TR_PL_DICT[TRACK_DICT[uri]] = 1\n",
    "        continue\n",
    "    \n",
    "    # track name \n",
    "    track_name = track['track_name']\n",
    "    \n",
    "    # track popularity\n",
    "    popularity = API_TRACK['popularity']\n",
    "    \n",
    "    # track duration\n",
    "    duration = track['duration_ms']\n",
    "    \n",
    "    # array of all artist_ids for track\n",
    "    TR_ARTISTS = []\n",
    "    \n",
    "    ### ARTISTS and TRACK ARTISTS\n",
    "    for artist in API_TRACK['artists']:\n",
    "        \n",
    "        \n",
    "        if artist['uri'] not in ARTIST_DICT:\n",
    "            artist_uri = artist['uri']\n",
    "            artist_name = artist['name']\n",
    "        \n",
    "            ARTIST_INSERT = 'insert into artist (artist_uri, artist_name) values (%s, %s)'\n",
    "            insert(ARTIST_INSERT, (artist_uri, artist_name))\n",
    "            time.sleep(0.01)\n",
    "            \n",
    "            query_artist_id = 'select artist_id from artist where artist_uri = %s;'\n",
    "            artist_id = query(query_artist_id, (artist_uri))[0]['artist_id']\n",
    "            ARTIST_DICT[artist_uri] = artist_id\n",
    "            \n",
    "            ### GENRE and ARTIST GENRES\n",
    "            for genre in sp.artist(artist_uri)['genres']:\n",
    "                \n",
    "                if genre not in GENRE_DICT:\n",
    "                    GENRE_INSERT = 'insert into genre (genre_name) values (%s)'\n",
    "                    insert(GENRE_INSERT, (genre))\n",
    "                    time.sleep(0.01)\n",
    "                    \n",
    "                    query_genre_id = 'select genre_id from genre where genre_name = %s'\n",
    "                    genre_id = query(query_genre_id, (genre))[0]['genre_id']\n",
    "                    GENRE_DICT[genre] = genre_id\n",
    "                else:\n",
    "                    genre_id = GENRE_DICT[genre]\n",
    "                \n",
    "                ART_G_INSERT = 'insert into artist_genre (artist_id, genre_id) values (%s, %s)'\n",
    "                insert(ART_G_INSERT, (artist_id, genre_id))\n",
    "            \n",
    "        else:\n",
    "            artist_id = ARTIST_DICT[artist['uri']]\n",
    "        \n",
    "        TR_ARTISTS.append(artist_id)\n",
    "        \n",
    "    ### ALBUM INFO\n",
    "    if track['album_uri'] in ALBUM_DICT: # if album is already in database\n",
    "        \n",
    "        album_id = ALBUM_DICT[track['album_uri']]\n",
    "        \n",
    "    else:\n",
    "    \n",
    "        # album name\n",
    "        album_name = track['album_name']\n",
    "    \n",
    "        # album uri\n",
    "        album_uri = track['album_uri']\n",
    "    \n",
    "        # number of tracks\n",
    "        num_tracks = sp.album(album_uri)['total_tracks']\n",
    "    \n",
    "        ALBUM_INSERT = 'insert into album (album_name, album_uri, num_tracks) values (%s, %s, %s)'\n",
    "        insert(ALBUM_INSERT, (album_name, album_uri, num_tracks))\n",
    "        time.sleep(0.01)\n",
    "        \n",
    "        query_album_id = 'select album_id from album where album_uri = %s;'\n",
    "        album_id = query(query_album_id, (album_uri))[0]['album_id']\n",
    "        ALBUM_DICT[album_uri] = album_id\n",
    "        \n",
    "        # ALBUM_ARTIST\n",
    "        for artist in API_TRACK['artists']:\n",
    "\n",
    "            if artist['uri'] in ARTIST_DICT:\n",
    "                query_artist_id = 'select artist_id from artist where artist_uri = %s'\n",
    "                alb_artist_id = query(query_artist_id, (artist['uri']))[0]['artist_id']\n",
    "        \n",
    "                ALB_ART_INSERT = 'insert into album_artist (album_id, artist_id) values (%s, %s)'\n",
    "                insert(ALB_ART_INSERT, (album_id, alb_artist_id))\n",
    "                \n",
    "    \n",
    "    \n",
    "    \n",
    "    try:\n",
    "        TRACK_INSERT = 'insert into track (track_id, track_name, track_uri, album_id, duration, popularity) values (%s,%s,%s,%s,%s,%s)'\n",
    "        insert(TRACK_INSERT, (track_id, track_name, uri, album_id, duration, popularity))\n",
    "        \n",
    "        TRACK_DICT[uri] = track_id\n",
    "        insert(PL_TR_INSERT, (pid, track_id))\n",
    "        TR_PL_DICT[track_id] = 1\n",
    "    \n",
    "        TR_ARTIST_INSERT = 'insert into track_artist (track_id, artist_id) values (%s, %s)'\n",
    "        for artist_id in TR_ARTISTS:\n",
    "                insert(TR_ARTIST_INSERT, (track_id, artist_id))\n",
    "    \n",
    "        ### AUDIO FEATURES\n",
    "        features = sp.audio_features(uri)[0]\n",
    "        if features is not None:\n",
    "            danceability = features[\"danceability\"]\n",
    "            acousticness = features[\"acousticness\"]\n",
    "            energy = features[\"energy\"]\n",
    "            loudness = features[\"loudness\"]\n",
    "            liveness = features[\"liveness\"]\n",
    "    \n",
    "            FEATURE_INSERT = 'insert into audio_features values (%s, %s, %s, %s, %s, %s)'\n",
    "            insert(FEATURE_INSERT, (danceability, acousticness, energy, loudness, liveness, track_id))\n",
    "    \n",
    "        track_id += 1\n",
    "    except:\n",
    "        track_id += 1\n",
    "        continue\n",
    "    \n",
    "  #playlist_id += 1"
   ]
  },
  {
   "cell_type": "code",
   "execution_count": 88,
   "metadata": {},
   "outputs": [],
   "source": [
    "playlist_id = 1001"
   ]
  },
  {
   "cell_type": "code",
   "execution_count": 87,
   "metadata": {},
   "outputs": [],
   "source": [
    "SP_PL_DICT = {}"
   ]
  },
  {
   "cell_type": "code",
   "execution_count": 89,
   "metadata": {
    "colab": {
     "base_uri": "https://localhost:8080/",
     "height": 312
    },
    "id": "W1ef1dn763Hj",
    "outputId": "26ac30e8-2f46-47a2-97da-ad2ccdaf705b"
   },
   "outputs": [],
   "source": [
    "# ITERATE THROUGH ALL OF SPOTIFY'S PLAYLISTS\n",
    "for playlist in playlists['items']:\n",
    "  time.sleep(3)\n",
    "\n",
    "  ### PLAYLIST INFO  \n",
    "\n",
    "  # Playlist name\n",
    "  name = playlist['name']\n",
    "    \n",
    "  if name in SP_PL_DICT:\n",
    "    continue\n",
    "\n",
    "  SP_PL_DICT[name] = 1\n",
    "    \n",
    "  # collaborative?\n",
    "  if playlist['collaborative']:\n",
    "    collaborative = 1\n",
    "  else:\n",
    "    collaborative = 0\n",
    "\n",
    "  # num tracks\n",
    "  num_tracks = playlist['tracks']['total']\n",
    "\n",
    "  PLAYLIST_INSERT = \"insert into playlist (pid, name, collaborative, num_tracks) values (%s, %s, %s, %s)\"\n",
    "  insert(PLAYLIST_INSERT, (playlist_id, name, collaborative, num_tracks))\n",
    "  USER_PL_INSERT = \"insert into user_playlist (user_id, pid) values (%s, %s)\"\n",
    "  insert(USER_PL_INSERT, (1, playlist_id))\n",
    "    \n",
    "  ### TRACK INFO\n",
    "  for track in sp.playlist_tracks(playlist['uri'])['items']:\n",
    "        \n",
    "    if track['track'] is None: # error handling\n",
    "        continue\n",
    "        \n",
    "    # track uri\n",
    "    uri = track['track']['uri']\n",
    "    \n",
    "    PL_TR_INSERT = \"insert into playlist_tracks (pid, track_id) values (%s, %s)\"\n",
    "    \n",
    "    if uri in TRACK_DICT: # if track is already in database\n",
    "        insert(PL_TR_INSERT, (playlist_id, TRACK_DICT[uri]))\n",
    "        continue\n",
    "    \n",
    "    # track name \n",
    "    track_name = track['track']['name']\n",
    "    \n",
    "    # track popularity\n",
    "    popularity = track['track']['popularity']\n",
    "    \n",
    "    # track duration\n",
    "    duration = track['track']['duration_ms']\n",
    "    \n",
    "    # array of all artist_ids for track\n",
    "    TR_ARTISTS = []\n",
    "    \n",
    "    ### ARTISTS and TRACK ARTISTS\n",
    "    for artist in track['track']['artists']:\n",
    "        \n",
    "        \n",
    "        if artist['uri'] not in ARTIST_DICT:\n",
    "            artist_uri = artist['uri']\n",
    "            artist_name = artist['name']\n",
    "        \n",
    "            ARTIST_INSERT = 'insert into artist (artist_uri, artist_name) values (%s, %s)'\n",
    "            insert(ARTIST_INSERT, (artist_uri, artist_name))\n",
    "            time.sleep(0.01)\n",
    "            \n",
    "            query_artist_id = 'select artist_id from artist where artist_uri = %s;'\n",
    "            artist_id = query(query_artist_id, (artist_uri))[0]['artist_id']\n",
    "            ARTIST_DICT[artist_uri] = artist_id\n",
    "            \n",
    "            ### GENRE and ARTIST GENRES\n",
    "            for genre in sp.artist(artist_uri)['genres']:\n",
    "                \n",
    "                if genre not in GENRE_DICT:\n",
    "                    GENRE_INSERT = 'insert into genre (genre_name) values (%s)'\n",
    "                    insert(GENRE_INSERT, (genre))\n",
    "                    time.sleep(0.01)\n",
    "                    \n",
    "                    query_genre_id = 'select genre_id from genre where genre_name = %s'\n",
    "                    genre_id = query(query_genre_id, (genre))[0]['genre_id']\n",
    "                    GENRE_DICT[genre] = genre_id\n",
    "                else:\n",
    "                    genre_id = GENRE_DICT[genre]\n",
    "                \n",
    "                ART_G_INSERT = 'insert into artist_genre (artist_id, genre_id) values (%s, %s)'\n",
    "                insert(ART_G_INSERT, (artist_id, genre_id))\n",
    "            \n",
    "        else:\n",
    "            artist_id = ARTIST_DICT[artist['uri']]\n",
    "            \n",
    "        TR_ARTISTS.append(artist_id)\n",
    "    \n",
    "    ### ALBUM INFO\n",
    "    if track['track']['album']['uri'] in ALBUM_DICT: # if album is already in database\n",
    "        \n",
    "        album_id = ALBUM_DICT[track['track']['album']['uri']]\n",
    "        \n",
    "    else:\n",
    "    \n",
    "        # album name\n",
    "        album_name = track['track']['album']['name']\n",
    "    \n",
    "        # album uri\n",
    "        album_uri = track['track']['album']['uri']\n",
    "    \n",
    "        # number of tracks\n",
    "        num_tracks = track['track']['album']['total_tracks']\n",
    "    \n",
    "        ALBUM_INSERT = 'insert into album (album_name, album_uri, num_tracks) values (%s, %s, %s)'\n",
    "        insert(ALBUM_INSERT, (album_name, album_uri, num_tracks))\n",
    "        time.sleep(0.01)\n",
    "        \n",
    "        query_album_id = 'select album_id from album where album_uri = %s;'\n",
    "        album_id = query(query_album_id, (album_uri))[0]['album_id']\n",
    "        ALBUM_DICT[album_uri] = album_id\n",
    "        \n",
    "        # ALBUM_ARTIST\n",
    "        for artist in track['track']['album']['artists']:\n",
    "\n",
    "            if artist['uri'] in ARTIST_DICT:\n",
    "                query_artist_id = 'select artist_id from artist where artist_uri = %s'\n",
    "                alb_artist_id = query(query_artist_id, (artist['uri']))[0]['artist_id']\n",
    "        \n",
    "                ALB_ART_INSERT = 'insert into album_artist (album_id, artist_id) values (%s, %s)'\n",
    "                insert(ALB_ART_INSERT, (album_id, alb_artist_id))\n",
    "    \n",
    "    try:\n",
    "        TRACK_INSERT = 'insert into track (track_id, track_name, track_uri, album_id, duration, popularity) values (%s,%s,%s,%s,%s,%s)'\n",
    "        insert(TRACK_INSERT, (track_id, track_name, uri, album_id, duration, popularity))\n",
    "        TRACK_DICT[uri] = track_id\n",
    "        insert(PL_TR_INSERT, (playlist_id, track_id))\n",
    "    \n",
    "        TR_ARTIST_INSERT = 'insert into track_artist (track_id, artist_id) values (%s, %s)'\n",
    "        for artist_id in TR_ARTISTS:\n",
    "            insert(TR_ARTIST_INSERT, (track_id, artist_id))\n",
    "    \n",
    "        ### AUDIO FEATURES\n",
    "        features = sp.audio_features(uri)[0]\n",
    "        if features is not None:\n",
    "            danceability = features[\"danceability\"]\n",
    "            acousticness = features[\"acousticness\"]\n",
    "            energy = features[\"energy\"]\n",
    "            loudness = features[\"loudness\"]\n",
    "            liveness = features[\"liveness\"]\n",
    "    \n",
    "            FEATURE_INSERT = 'insert into audio_features values (%s, %s, %s, %s, %s, %s)'\n",
    "            insert(FEATURE_INSERT, (danceability, acousticness, energy, loudness, liveness, track_id))\n",
    "    \n",
    "        track_id += 1\n",
    "    except:\n",
    "        track_id += 1\n",
    "        continue\n",
    "    \n",
    "  playlist_id += 1\n",
    "    \n",
    "    "
   ]
  }
 ],
 "metadata": {
  "colab": {
   "collapsed_sections": [],
   "name": "QueryTables.ipynb",
   "provenance": []
  },
  "kernelspec": {
   "display_name": "Python 3",
   "language": "python",
   "name": "python3"
  },
  "language_info": {
   "codemirror_mode": {
    "name": "ipython",
    "version": 3
   },
   "file_extension": ".py",
   "mimetype": "text/x-python",
   "name": "python",
   "nbconvert_exporter": "python",
   "pygments_lexer": "ipython3",
   "version": "3.8.3"
  }
 },
 "nbformat": 4,
 "nbformat_minor": 1
}
